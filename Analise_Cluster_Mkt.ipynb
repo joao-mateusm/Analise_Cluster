{
 "cells": [
  {
   "cell_type": "code",
   "execution_count": null,
   "id": "bcc1148b-d335-4610-9e8e-531ebd8e6d9c",
   "metadata": {},
   "outputs": [],
   "source": [
    "# Imports\n",
    "import threadpoolctl\n",
    "import numpy as np\n",
    "import pandas as pd\n",
    "import seaborn as sns\n",
    "import matplotlib.pyplot as plt\n",
    "import sklearn\n",
    "from scipy import stats\n",
    "from sklearn.preprocessing import StandardScaler\n",
    "from sklearn.cluster import KMeans\n",
    "from sklearn.metrics import silhouette_score\n",
    "import warnings\n",
    "warnings.filterwarnings('ignore')"
   ]
  },
  {
   "cell_type": "code",
   "execution_count": null,
   "id": "08525cf6-0dbb-42c9-81a0-8d9cb7fbdd09",
   "metadata": {},
   "outputs": [],
   "source": [
    "# Set seed\n",
    "np.random.seed(42)"
   ]
  },
  {
   "cell_type": "code",
   "execution_count": null,
   "id": "60c2bccb-6559-47da-b6d8-8a187796a174",
   "metadata": {},
   "outputs": [],
   "source": [
    "# Carrega o dataset\n",
    "df_dsa = pd.read_csv('dataset.csv')"
   ]
  },
  {
   "cell_type": "code",
   "execution_count": null,
   "id": "9a003c63-759a-4419-bc42-7e3d92355f69",
   "metadata": {},
   "outputs": [],
   "source": [
    "# Shape\n",
    "df_dsa.shape"
   ]
  },
  {
   "cell_type": "code",
   "execution_count": null,
   "id": "3b445e5e-6efb-458f-acc2-7989658e6504",
   "metadata": {},
   "outputs": [],
   "source": [
    "# Info\n",
    "df_dsa.info()"
   ]
  },
  {
   "cell_type": "code",
   "execution_count": null,
   "id": "e4db4f09-f0fa-45cd-a3aa-fd3fe1ddb863",
   "metadata": {},
   "outputs": [],
   "source": [
    "# Primeiras linhas\n",
    "df_dsa.head()"
   ]
  },
  {
   "cell_type": "code",
   "execution_count": null,
   "id": "dffd507e-a495-4f8d-b438-e24552874c8e",
   "metadata": {},
   "outputs": [],
   "source": [
    "df_dsa.sample(10)"
   ]
  },
  {
   "cell_type": "markdown",
   "id": "f9f640dc-6a89-4c79-8f1a-bc9c69d50c3f",
   "metadata": {},
   "source": [
    "## Análise Exploratória e Limpeza de Dados"
   ]
  },
  {
   "cell_type": "code",
   "execution_count": null,
   "id": "118129e5-3448-46a6-ab05-c4cb640f2aa5",
   "metadata": {},
   "outputs": [],
   "source": [
    "# Verificando valores nulos\n",
    "print(df_dsa.isnull().sum())"
   ]
  },
  {
   "cell_type": "code",
   "execution_count": null,
   "id": "fec4c541-494b-421d-8c0f-beceee5751d9",
   "metadata": {},
   "outputs": [],
   "source": [
    "# Visualizando outliers para cada variável no DataFrame\n",
    "for column in df_dsa.columns:\n",
    "    if df_dsa[column].dtype in ['int64', 'float64']:  \n",
    "        plt.figure(figsize = (5, 5))\n",
    "        sns.boxplot(x = df_dsa[column])\n",
    "        plt.title(column)\n",
    "        plt.show()"
   ]
  },
  {
   "cell_type": "code",
   "execution_count": null,
   "id": "2d9b2cff-a001-4e28-8645-a79fc5cfc542",
   "metadata": {},
   "outputs": [],
   "source": [
    "# Número de registros por categoria da variável\n",
    "df_dsa.Cancelou.value_counts()"
   ]
  },
  {
   "cell_type": "code",
   "execution_count": null,
   "id": "228dc9a2-275c-4f0b-95b8-fa517728b37d",
   "metadata": {},
   "outputs": [],
   "source": [
    "df_dsa.describe()"
   ]
  },
  {
   "cell_type": "code",
   "execution_count": null,
   "id": "07e699b5-98d7-460e-8c5d-9fc8709e3267",
   "metadata": {},
   "outputs": [],
   "source": [
    "# Define o Intervalo Interquartil\n",
    "Q1 = df_dsa.quantile(0.25)\n",
    "Q3 = df_dsa.quantile(0.75)\n",
    "IQR = Q3 - Q1\n",
    "print(IQR)"
   ]
  },
  {
   "cell_type": "code",
   "execution_count": null,
   "id": "87e9f9c5-0457-4d99-8591-2742c5dabc9d",
   "metadata": {},
   "outputs": [],
   "source": [
    "# Vamos checar os valores que estão 1.5 acima ou abaixo do IQR. Esses valores são considerados outliers.\n",
    "outliers = ((df_dsa < (Q1 - 2.5 * IQR)) | (df_dsa > (Q3 + 2.5 * IQR))).any(axis = 1)"
   ]
  },
  {
   "cell_type": "code",
   "execution_count": null,
   "id": "3f4998b5-65db-4bf8-8e49-50d0bf0e3c00",
   "metadata": {},
   "outputs": [],
   "source": [
    "# Filtramos os outliers\n",
    "df_outliers = df_dsa[outliers]"
   ]
  },
  {
   "cell_type": "code",
   "execution_count": null,
   "id": "5c876022-df9b-4984-8eb9-289cff999793",
   "metadata": {},
   "outputs": [],
   "source": [
    "# Visualizamos os outliers\n",
    "df_outliers"
   ]
  },
  {
   "cell_type": "code",
   "execution_count": null,
   "id": "cb32ca97-c352-473c-9157-676ebc4956b0",
   "metadata": {},
   "outputs": [],
   "source": [
    "# Calculando a matriz de correlação\n",
    "correlation_matrix = df_dsa.corr()"
   ]
  },
  {
   "cell_type": "code",
   "execution_count": null,
   "id": "2953bee4-cabf-4244-a5df-bd7b02f2ba84",
   "metadata": {},
   "outputs": [],
   "source": [
    "correlation_matrix"
   ]
  },
  {
   "cell_type": "code",
   "execution_count": null,
   "id": "4cd42a37-655c-412c-9e66-4127d49dd15b",
   "metadata": {},
   "outputs": [],
   "source": [
    "# Plot\n",
    "plt.figure(figsize = (10,8))\n",
    "sns.heatmap(correlation_matrix, annot = True, cmap = 'coolwarm')\n",
    "plt.title('Matriz de Correlação')\n",
    "plt.show()"
   ]
  },
  {
   "cell_type": "code",
   "execution_count": null,
   "id": "7f82c610-d4d1-4886-87a6-974d93bddc71",
   "metadata": {},
   "outputs": [],
   "source": [
    "# Cria o padronizador\n",
    "scaler = StandardScaler()"
   ]
  },
  {
   "cell_type": "code",
   "execution_count": null,
   "id": "566d787e-48c1-468d-9d65-97d398fca709",
   "metadata": {},
   "outputs": [],
   "source": [
    "# Padronizando as Variáveis\n",
    "df_scaled = pd.DataFrame(scaler.fit_transform(df_dsa), columns = df_dsa.columns)"
   ]
  },
  {
   "cell_type": "code",
   "execution_count": null,
   "id": "38251a0b-cce2-4498-85fb-8a418538da97",
   "metadata": {},
   "outputs": [],
   "source": [
    "df_scaled.head()"
   ]
  },
  {
   "cell_type": "code",
   "execution_count": null,
   "id": "ee6dae99-8100-412f-9ad3-699de874887b",
   "metadata": {},
   "outputs": [],
   "source": [
    "df_dsa.head()"
   ]
  },
  {
   "cell_type": "code",
   "execution_count": null,
   "id": "12950bfb-a152-4b7e-86db-c76d70c8783e",
   "metadata": {},
   "outputs": [],
   "source": [
    "# Visualização de Dados com PairPlot\n",
    "sns.pairplot(df_dsa, hue = 'Cancelou', diag_kind = 'kde')\n",
    "plt.show()"
   ]
  },
  {
   "cell_type": "code",
   "execution_count": null,
   "id": "e3764c70-c4ea-4d08-8d76-191980b1b9c2",
   "metadata": {},
   "outputs": [],
   "source": [
    "# Lista para armazenar o SSE\n",
    "sse = []"
   ]
  },
  {
   "cell_type": "code",
   "execution_count": null,
   "id": "2b073233-9232-458e-b4cf-1624f5ee8d32",
   "metadata": {},
   "outputs": [],
   "source": [
    "# Range de valores de k a serem testados\n",
    "k_range = range(1, 11)"
   ]
  },
  {
   "cell_type": "code",
   "execution_count": null,
   "id": "725de0e9-1fbc-44bb-9157-efb571a3484e",
   "metadata": {},
   "outputs": [],
   "source": [
    "# Testando os valores\n",
    "for k in k_range:\n",
    "    kmeans = KMeans(n_clusters = k)\n",
    "    kmeans.fit(df_scaled)\n",
    "    sse.append(kmeans.inertia_)"
   ]
  },
  {
   "cell_type": "code",
   "execution_count": null,
   "id": "e31715da-8ddd-4ed4-8f0c-f7d5c2f6e5c4",
   "metadata": {},
   "outputs": [],
   "source": [
    "# Plot\n",
    "plt.plot(k_range, sse, 'bx-')\n",
    "plt.xlabel('k')\n",
    "plt.ylabel('Soma dos Quadrados Intra-Cluster')\n",
    "plt.title('Método do Cotovelo para Ótimo k')\n",
    "plt.show()"
   ]
  },
  {
   "cell_type": "code",
   "execution_count": null,
   "id": "a2e1cf13-ed38-4888-bb98-61bafc3799a9",
   "metadata": {},
   "outputs": [],
   "source": [
    "# Lista para o Silhouette score\n",
    "sil_score = []\n",
    "\n",
    "# Loop pelo range de valores de k a serem testados\n",
    "for k in k_range:\n",
    "    kmeans = KMeans(n_clusters = k)\n",
    "    kmeans.fit(df_scaled)\n",
    "    \n",
    "    # Silhouette score não é definido para k = 1, então filtramos\n",
    "    if k != 1:\n",
    "        sil_score.append(silhouette_score(df_scaled, kmeans.labels_))\n",
    "\n",
    "# Plot\n",
    "plt.plot(k_range[1:], sil_score, 'bx-')\n",
    "plt.xlabel('k')\n",
    "plt.ylabel('Coeficiente de Silhueta')\n",
    "plt.title('Método da Silhueta para Ótimo k')\n",
    "plt.show()"
   ]
  },
  {
   "cell_type": "markdown",
   "id": "db03a432-abf6-4d4c-8daf-5771c49a234e",
   "metadata": {},
   "source": [
    "## Construção da Primeira Versão do Modelo de Clusterização"
   ]
  },
  {
   "cell_type": "code",
   "execution_count": null,
   "id": "43bbb9fa-8d9b-43ad-8d0b-b725e869ff68",
   "metadata": {},
   "outputs": [],
   "source": [
    "# Modelo com 4 clusters\n",
    "modelo_kmeans_dsa = KMeans(n_clusters = 4, random_state = 42)"
   ]
  },
  {
   "cell_type": "code",
   "execution_count": null,
   "id": "0e701de2-c5dd-493e-924a-95bdee666a1e",
   "metadata": {},
   "outputs": [],
   "source": [
    "# Treina o modelo e salva o resultado em uma coluna do dataframe original\n",
    "df_dsa['cluster'] = modelo_kmeans_dsa.fit_predict(df_scaled)"
   ]
  },
  {
   "cell_type": "code",
   "execution_count": null,
   "id": "6a1060f3-ce74-4d0b-8ff6-3b60e02b49f4",
   "metadata": {},
   "outputs": [],
   "source": [
    "# Amostra aleatória de dados\n",
    "df_dsa.sample(10)"
   ]
  },
  {
   "cell_type": "code",
   "execution_count": null,
   "id": "1cf7b099-7862-41b2-aa76-061c7edd207f",
   "metadata": {},
   "outputs": [],
   "source": [
    "df_dsa.shape"
   ]
  },
  {
   "cell_type": "code",
   "execution_count": null,
   "id": "19c199ce-7c21-448e-a475-e7061154e6c2",
   "metadata": {},
   "outputs": [],
   "source": [
    "# Usamos o dataset original, incluindo os outliers\n",
    "df_dsa_cleaned = df_dsa"
   ]
  },
  {
   "cell_type": "code",
   "execution_count": null,
   "id": "c2083a02-ffa8-443e-937b-dc74abf455a6",
   "metadata": {},
   "outputs": [],
   "source": [
    "df_dsa_cleaned.shape"
   ]
  },
  {
   "cell_type": "code",
   "execution_count": null,
   "id": "5db5926e-a08d-4710-8b70-29d66ec486cf",
   "metadata": {},
   "outputs": [],
   "source": [
    "# Criando um mapa de cores baseado na paleta 'Dark2'\n",
    "palette = sns.color_palette('Dark2', n_colors = len(df_dsa_cleaned['cluster'].unique()))\n",
    "color_map = dict(zip(df_dsa_cleaned['cluster'].unique(), palette))\n",
    "\n",
    "# Plotando o gráfico de grid com os clusters e mostrando o mapa de cores\n",
    "g = sns.PairGrid(df_dsa_cleaned, hue = 'cluster', palette = color_map, diag_sharey = False)\n",
    "g.map_upper(sns.scatterplot)\n",
    "g.map_lower(sns.kdeplot)\n",
    "g.map_diag(sns.kdeplot, lw = 2)\n",
    "plt.show()\n",
    "\n",
    "# Mostrando o mapa de cores\n",
    "for cluster, color in color_map.items():\n",
    "    plt.scatter([], [], c = [color], label = f'Cluster {cluster}')\n",
    "plt.legend(title = 'Legenda de Cores dos Clusters')\n",
    "plt.axis('off')\n",
    "plt.show()"
   ]
  },
  {
   "cell_type": "markdown",
   "id": "95e90436-0d30-451d-a884-7eb31e06f6dc",
   "metadata": {},
   "source": [
    "## Construção da Segunda Versão do Modelo de Clusterização"
   ]
  },
  {
   "cell_type": "code",
   "execution_count": null,
   "id": "ee9ba012-2759-4523-9a3b-25629fb0d630",
   "metadata": {},
   "outputs": [],
   "source": [
    "# Modelo com 3 clusters\n",
    "modelo_kmeans_dsa = KMeans(n_clusters = 3, random_state = 42)"
   ]
  },
  {
   "cell_type": "code",
   "execution_count": null,
   "id": "7b53b08c-e16b-46ec-a3ef-21ae65d89c9c",
   "metadata": {},
   "outputs": [],
   "source": [
    "df_dsa.drop('cluster', axis = 1, inplace = True)"
   ]
  },
  {
   "cell_type": "code",
   "execution_count": null,
   "id": "d232a019-4d78-4db5-a020-6b868d1a0419",
   "metadata": {},
   "outputs": [],
   "source": [
    "df_dsa.head()"
   ]
  },
  {
   "cell_type": "code",
   "execution_count": null,
   "id": "2acaff11-6a5d-4b0c-8820-9a3dc1221316",
   "metadata": {},
   "outputs": [],
   "source": [
    "# Treina o modelo e salva o resultado em uma coluna do dataframe original\n",
    "df_dsa['cluster'] = modelo_kmeans_dsa.fit_predict(df_scaled)"
   ]
  },
  {
   "cell_type": "code",
   "execution_count": null,
   "id": "02051af4-2b82-4e4a-afc5-941fb362dbc3",
   "metadata": {},
   "outputs": [],
   "source": [
    "# Amostra aleatória de dados\n",
    "df_dsa.sample(10)"
   ]
  },
  {
   "cell_type": "code",
   "execution_count": null,
   "id": "39c7e762-013c-45e6-99f8-f9ee83747db2",
   "metadata": {},
   "outputs": [],
   "source": [
    "# Mantém apenas as linhas que não são outliers\n",
    "df_dsa_cleaned = df_dsa[~outliers]"
   ]
  },
  {
   "cell_type": "code",
   "execution_count": null,
   "id": "62d3bcda-be31-49e5-8143-0b42bf865b10",
   "metadata": {},
   "outputs": [],
   "source": [
    "# Criando um mapa de cores baseado na paleta 'Dark2'\n",
    "palette = sns.color_palette('Dark2', n_colors = len(df_dsa_cleaned['cluster'].unique()))\n",
    "color_map = dict(zip(df_dsa_cleaned['cluster'].unique(), palette))\n",
    "\n",
    "# Plotando o gráfico de grid com os clusters e mostrando o mapa de cores\n",
    "g = sns.PairGrid(df_dsa_cleaned, hue = 'cluster', palette = color_map, diag_sharey = False)\n",
    "g.map_upper(sns.scatterplot)\n",
    "g.map_lower(sns.kdeplot)\n",
    "g.map_diag(sns.kdeplot, lw = 2)\n",
    "plt.show()\n",
    "\n",
    "# Mostrando o mapa de cores\n",
    "for cluster, color in color_map.items():\n",
    "    plt.scatter([], [], c = [color], label = f'Cluster {cluster}')\n",
    "plt.legend(title = 'Legenda de Cores dos Clusters')\n",
    "plt.axis('off')\n",
    "plt.show()"
   ]
  },
  {
   "cell_type": "markdown",
   "id": "edac6024-527b-4355-bafb-777ee0b1aec9",
   "metadata": {},
   "source": [
    "## Analisando os Clusters do Modelo Escolhido"
   ]
  },
  {
   "cell_type": "code",
   "execution_count": null,
   "id": "9cc21c90-5e00-4029-940d-74dc8f9af8a5",
   "metadata": {},
   "outputs": [],
   "source": [
    "df_dsa_cleaned.head(5)"
   ]
  },
  {
   "cell_type": "code",
   "execution_count": null,
   "id": "339b6852-1b3e-47ba-8dc0-9e3097eed055",
   "metadata": {},
   "outputs": [],
   "source": [
    "df_dsa_cleaned.sample(5)"
   ]
  },
  {
   "cell_type": "code",
   "execution_count": null,
   "id": "294e7797-87fc-4618-8ea3-25d2711ab79c",
   "metadata": {},
   "outputs": [],
   "source": [
    "df_dsa_cleaned[df_dsa_cleaned.cluster == 0].head()"
   ]
  },
  {
   "cell_type": "code",
   "execution_count": null,
   "id": "5279c503-b23e-4136-83ec-43d3f94eb599",
   "metadata": {},
   "outputs": [],
   "source": [
    "df_dsa_cleaned[df_dsa_cleaned.cluster == 0].mean()"
   ]
  },
  {
   "cell_type": "code",
   "execution_count": null,
   "id": "39347f88-e584-4cf2-8bfc-e81b31f79832",
   "metadata": {},
   "outputs": [],
   "source": [
    "df_dsa_cleaned[df_dsa_cleaned.cluster == 1].head()"
   ]
  },
  {
   "cell_type": "code",
   "execution_count": null,
   "id": "aba8eec2-8186-4bd2-9e5c-08db74f744e8",
   "metadata": {},
   "outputs": [],
   "source": [
    "df_dsa_cleaned[df_dsa_cleaned.cluster == 1].mean()"
   ]
  },
  {
   "cell_type": "code",
   "execution_count": null,
   "id": "8b6d12ae-2003-430a-bce6-49a18fa2bba8",
   "metadata": {},
   "outputs": [],
   "source": [
    "df_dsa_cleaned[df_dsa_cleaned.cluster == 2].head()"
   ]
  },
  {
   "cell_type": "code",
   "execution_count": null,
   "id": "564cd259-f779-445d-89e7-32ada361d7e4",
   "metadata": {},
   "outputs": [],
   "source": [
    "df_dsa_cleaned[df_dsa_cleaned.cluster == 2].mean()"
   ]
  },
  {
   "cell_type": "markdown",
   "id": "d310c933-7b71-404f-8aed-d800a58b0e19",
   "metadata": {},
   "source": [
    "### Centróides dos Clusters\n",
    "\n",
    "Primeiro, você pode examinar os centroides de cada cluster para identificar quais características são predominantes em cada grupo."
   ]
  },
  {
   "cell_type": "code",
   "execution_count": null,
   "id": "7c97bfd6-b968-4a6f-80b9-287d63beff9c",
   "metadata": {},
   "outputs": [],
   "source": [
    "# Extrai os centróides\n",
    "centroides = modelo_kmeans_dsa.cluster_centers_"
   ]
  },
  {
   "cell_type": "code",
   "execution_count": null,
   "id": "d0730a97-89fd-46da-ac1e-5a8904246818",
   "metadata": {},
   "outputs": [],
   "source": [
    "print(centroides)"
   ]
  },
  {
   "cell_type": "code",
   "execution_count": null,
   "id": "46c2c9cb-5466-4c32-9ef2-1e9175f5e0f0",
   "metadata": {},
   "outputs": [],
   "source": [
    "# Cria a figura\n",
    "plt.figure(figsize = (8, 6))\n",
    "\n",
    "# Loop pelos clusters\n",
    "for cluster_num in range(3):\n",
    "    mask = df_dsa['cluster'] == cluster_num\n",
    "    plt.scatter(df_scaled[mask].iloc[:, 0], df_scaled[mask].iloc[:, 1], label = f'Cluster {cluster_num}')\n",
    "\n",
    "# Plot\n",
    "plt.scatter(modelo_kmeans_dsa.cluster_centers_[:, 0], \n",
    "            modelo_kmeans_dsa.cluster_centers_[:, 1], \n",
    "            s = 300, \n",
    "            c = 'red', \n",
    "            marker = 'X', \n",
    "            label = 'Centróides')\n",
    "plt.legend()\n",
    "plt.title(\"Cluster Plot\")\n",
    "plt.show()"
   ]
  },
  {
   "cell_type": "code",
   "execution_count": null,
   "id": "436e746f-27f1-49c7-8c05-5f5cf8bbaeb4",
   "metadata": {},
   "outputs": [],
   "source": [
    "df_dsa['cluster'].value_counts()"
   ]
  },
  {
   "cell_type": "code",
   "execution_count": null,
   "id": "7432ebe6-0e3f-4564-a4b1-76c4fb03ab6a",
   "metadata": {},
   "outputs": [],
   "source": [
    "df_dsa.groupby('cluster').mean()"
   ]
  },
  {
   "cell_type": "code",
   "execution_count": null,
   "id": "566249ca-1013-487e-9e36-8da2156318a5",
   "metadata": {},
   "outputs": [],
   "source": [
    "score = silhouette_score(df_scaled, df_dsa['cluster'])\n",
    "print(score)"
   ]
  },
  {
   "cell_type": "markdown",
   "id": "b35ba530-113a-4cc3-8079-dbb848f446b3",
   "metadata": {},
   "source": [
    "### 2D Scatter Plot (Para 2 características)"
   ]
  },
  {
   "cell_type": "code",
   "execution_count": null,
   "id": "c68d300d-7624-44cc-af54-3969515ccdd8",
   "metadata": {},
   "outputs": [],
   "source": [
    "# Plot\n",
    "plt.scatter(df_dsa[df_dsa['cluster'] == 0]['Idade'], df_dsa[df_dsa['cluster'] == 0]['Gasto_Mensal'], label='Cluster 0')\n",
    "plt.scatter(df_dsa[df_dsa['cluster'] == 1]['Idade'], df_dsa[df_dsa['cluster'] == 1]['Gasto_Mensal'], label='Cluster 1')\n",
    "plt.scatter(df_dsa[df_dsa['cluster'] == 2]['Idade'], df_dsa[df_dsa['cluster'] == 2]['Gasto_Mensal'], label='Cluster 2')\n",
    "plt.legend()\n",
    "plt.show()"
   ]
  },
  {
   "cell_type": "markdown",
   "id": "33a38148-1929-431d-bd8a-24b962a49950",
   "metadata": {},
   "source": [
    "### 3D Scatter Plot (Para 3 características)"
   ]
  },
  {
   "cell_type": "code",
   "execution_count": null,
   "id": "288714c2-439a-430c-969f-7db8797a1766",
   "metadata": {},
   "outputs": [],
   "source": [
    "# Plot 3D\n",
    "from mpl_toolkits.mplot3d import Axes3D\n",
    "\n",
    "fig = plt.figure()\n",
    "ax = fig.add_subplot(111, projection='3d')\n",
    "\n",
    "ax.scatter(df_dsa[df_dsa['cluster'] == 0]['Idade'], df_dsa[df_dsa['cluster'] == 0]['Gasto_Mensal'], df_dsa[df_dsa['cluster'] == 0]['Tempo_de_Assinatura'], label='Cluster 0')\n",
    "ax.scatter(df_dsa[df_dsa['cluster'] == 1]['Idade'], df_dsa[df_dsa['cluster'] == 1]['Gasto_Mensal'], df_dsa[df_dsa['cluster'] == 1]['Tempo_de_Assinatura'], label='Cluster 1')\n",
    "ax.scatter(df_dsa[df_dsa['cluster'] == 2]['Idade'], df_dsa[df_dsa['cluster'] == 2]['Gasto_Mensal'], df_dsa[df_dsa['cluster'] == 2]['Tempo_de_Assinatura'], label='Cluster 2')\n",
    "\n",
    "ax.legend()\n",
    "plt.show()"
   ]
  },
  {
   "cell_type": "code",
   "execution_count": null,
   "id": "8a1b31ce-b17b-47f7-9d49-3989ed670bbd",
   "metadata": {},
   "outputs": [],
   "source": [
    "# Visualização com PCA\n",
    "from sklearn.decomposition import PCA\n",
    "\n",
    "# Cria o modelo PCA com 2 componentes principais\n",
    "pca = PCA(n_components = 2)\n",
    "\n",
    "# Treina o modelo usando dados padronizados\n",
    "principalComponents = pca.fit_transform(df_scaled)\n",
    "\n",
    "# Cria o dataframe com o resultado\n",
    "df_principal = pd.DataFrame(data = principalComponents, columns = ['PC 1', 'PC 2'])\n",
    "df_principal['cluster'] = df_dsa['cluster']\n",
    "\n",
    "# Cria o gráfico\n",
    "plt.scatter(df_principal[df_principal['cluster'] == 0]['PC 1'], df_principal[df_principal['cluster'] == 0]['PC 2'], label='Cluster 0')\n",
    "plt.scatter(df_principal[df_principal['cluster'] == 1]['PC 1'], df_principal[df_principal['cluster'] == 1]['PC 2'], label='Cluster 1')\n",
    "plt.scatter(df_principal[df_principal['cluster'] == 2]['PC 1'], df_principal[df_principal['cluster'] == 2]['PC 2'], label='Cluster 2')\n",
    "plt.legend()\n",
    "plt.show()"
   ]
  },
  {
   "cell_type": "code",
   "execution_count": null,
   "id": "2d5321c3-144e-4106-af8a-25b43691256b",
   "metadata": {},
   "outputs": [],
   "source": [
    "# Visualização com t-SNE (t-distributed Stochastic Neighbor Embedding) \n",
    "from sklearn.manifold import TSNE\n",
    "\n",
    "tsne = TSNE(n_components = 2)\n",
    "tsne_results = tsne.fit_transform(df_scaled)\n",
    "df_tsne = pd.DataFrame(data = tsne_results, columns = ['tsne 1', 'tsne 2'])\n",
    "df_tsne['cluster'] = df_dsa['cluster']\n",
    "\n",
    "plt.scatter(df_tsne[df_tsne['cluster'] == 0]['tsne 1'], df_tsne[df_tsne['cluster'] == 0]['tsne 2'], label='Cluster 0')\n",
    "plt.scatter(df_tsne[df_tsne['cluster'] == 1]['tsne 1'], df_tsne[df_tsne['cluster'] == 1]['tsne 2'], label='Cluster 1')\n",
    "plt.scatter(df_tsne[df_tsne['cluster'] == 2]['tsne 1'], df_tsne[df_tsne['cluster'] == 2]['tsne 2'], label='Cluster 2')\n",
    "plt.legend()\n",
    "plt.show()"
   ]
  },
  {
   "cell_type": "markdown",
   "id": "e05c6bb9-651b-4aee-8666-c092f1377b34",
   "metadata": {},
   "source": [
    "### Cluster Plot"
   ]
  },
  {
   "cell_type": "code",
   "execution_count": null,
   "id": "4d2ca8c7-8317-42e0-a6b9-cbe65bbeba95",
   "metadata": {},
   "outputs": [],
   "source": [
    "# Cria a figura\n",
    "plt.figure(figsize = (8, 6))\n",
    "\n",
    "# Loop pelos clusters\n",
    "for cluster_num in range(3):\n",
    "    mask = df_dsa['cluster'] == cluster_num\n",
    "    plt.scatter(df_scaled[mask].iloc[:, 0], df_scaled[mask].iloc[:, 1], label = f'Cluster {cluster_num}')\n",
    "\n",
    "# Plot\n",
    "plt.scatter(modelo_kmeans_dsa.cluster_centers_[:, 0], \n",
    "            modelo_kmeans_dsa.cluster_centers_[:, 1], \n",
    "            s = 300, \n",
    "            c = 'red', \n",
    "            marker = 'X', \n",
    "            label = 'Centróides')\n",
    "plt.legend()\n",
    "plt.title(\"Cluster Plot\")\n",
    "plt.show()"
   ]
  },
  {
   "cell_type": "code",
   "execution_count": null,
   "id": "ad2c392b-dcd5-45d1-b468-576e070f2f0b",
   "metadata": {},
   "outputs": [],
   "source": [
    "# Para mais de 2 dimensões usamos PCA\n",
    "from sklearn.decomposition import PCA\n",
    "\n",
    "pca = PCA(n_components = 2)\n",
    "\n",
    "pca_result = pca.fit_transform(df_scaled)\n",
    "\n",
    "df_dsa['pca_1'] = pca_result[:, 0]\n",
    "df_dsa['pca_2'] = pca_result[:, 1]\n",
    "\n",
    "plt.figure(figsize=(8, 6))\n",
    "\n",
    "for cluster_num in range(3):\n",
    "    mask = df_dsa['cluster'] == cluster_num\n",
    "    plt.scatter(df_dsa[mask]['pca_1'], df_dsa[mask]['pca_2'], label = f'Cluster {cluster_num}')\n",
    "\n",
    "# Obtenha os centroides transformados para a visualização\n",
    "centroids_pca = pca.transform(modelo_kmeans_dsa.cluster_centers_)\n",
    "plt.scatter(centroids_pca[:, 0], \n",
    "            centroids_pca[:, 1], \n",
    "            s = 300, \n",
    "            c = 'red', \n",
    "            marker = 'X', \n",
    "            label = 'Centróides')\n",
    "plt.legend()\n",
    "plt.title(\"Cluster Plot com PCA\")\n",
    "plt.show()"
   ]
  },
  {
   "cell_type": "code",
   "execution_count": null,
   "id": "3d819440-1d9f-4629-9acd-6e502031e7b9",
   "metadata": {},
   "outputs": [],
   "source": []
  },
  {
   "cell_type": "code",
   "execution_count": null,
   "id": "62afb849-7439-4705-a85f-a94e1a8477c7",
   "metadata": {},
   "outputs": [],
   "source": []
  },
  {
   "cell_type": "code",
   "execution_count": null,
   "id": "1b06e942-5d05-46d6-be3e-40a4a764eb13",
   "metadata": {},
   "outputs": [],
   "source": []
  },
  {
   "cell_type": "code",
   "execution_count": null,
   "id": "3c04ecbb-0152-43a3-af6b-e58ba2e446ef",
   "metadata": {},
   "outputs": [],
   "source": []
  }
 ],
 "metadata": {
  "kernelspec": {
   "display_name": "Python 3 (ipykernel)",
   "language": "python",
   "name": "python3"
  },
  "language_info": {
   "codemirror_mode": {
    "name": "ipython",
    "version": 3
   },
   "file_extension": ".py",
   "mimetype": "text/x-python",
   "name": "python",
   "nbconvert_exporter": "python",
   "pygments_lexer": "ipython3",
   "version": "3.12.4"
  }
 },
 "nbformat": 4,
 "nbformat_minor": 5
}
